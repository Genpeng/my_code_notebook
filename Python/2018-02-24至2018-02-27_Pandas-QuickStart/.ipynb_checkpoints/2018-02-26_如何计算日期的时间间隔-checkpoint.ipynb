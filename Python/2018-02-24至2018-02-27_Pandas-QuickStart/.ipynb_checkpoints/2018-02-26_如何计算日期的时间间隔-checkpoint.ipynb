{
 "cells": [
  {
   "cell_type": "code",
   "execution_count": 1,
   "metadata": {
    "collapsed": true
   },
   "outputs": [],
   "source": [
    "%matplotlib inline\n",
    "\n",
    "import numpy as np\n",
    "import pandas as pd\n",
    "import matplotlib.pyplot as plt"
   ]
  },
  {
   "cell_type": "code",
   "execution_count": 2,
   "metadata": {},
   "outputs": [
    {
     "name": "stdout",
     "output_type": "stream",
     "text": [
      "zonename              object\n",
      "starttime     datetime64[ns]\n",
      "finishtime    datetime64[ns]\n",
      "dtype: object\n"
     ]
    }
   ],
   "source": [
    "# 读入数据，并把starttime、finishtime列的类型设置为datetime\n",
    "df = pd.read_excel('./data/一个C15电池的完整流程.xlsx', index_col=None, parse_dates=['starttime', 'finishtime'])\n",
    "\n",
    "# 同样的效果也可以这么实现\n",
    "# df = pd.read_excel('一个C15电池的完整流程.xlsx', index_col=None)\n",
    "# df['starttime'] = pd.to_datetime(df['starttime'])\n",
    "# df['finishtime'] = pd.to_datetime(df['finishtime'])\n",
    "\n",
    "print(df.dtypes)"
   ]
  },
  {
   "cell_type": "code",
   "execution_count": 3,
   "metadata": {},
   "outputs": [
    {
     "data": {
      "text/html": [
       "<div>\n",
       "<style>\n",
       "    .dataframe thead tr:only-child th {\n",
       "        text-align: right;\n",
       "    }\n",
       "\n",
       "    .dataframe thead th {\n",
       "        text-align: left;\n",
       "    }\n",
       "\n",
       "    .dataframe tbody tr th {\n",
       "        vertical-align: top;\n",
       "    }\n",
       "</style>\n",
       "<table border=\"1\" class=\"dataframe\">\n",
       "  <thead>\n",
       "    <tr style=\"text-align: right;\">\n",
       "      <th></th>\n",
       "      <th>zonename</th>\n",
       "      <th>starttime</th>\n",
       "      <th>finishtime</th>\n",
       "    </tr>\n",
       "  </thead>\n",
       "  <tbody>\n",
       "    <tr>\n",
       "      <th>0</th>\n",
       "      <td>高温陈化区</td>\n",
       "      <td>2018-01-04 05:29:01</td>\n",
       "      <td>2018-01-13 13:51:22</td>\n",
       "    </tr>\n",
       "    <tr>\n",
       "      <th>1</th>\n",
       "      <td>化成区</td>\n",
       "      <td>2018-01-13 13:52:59</td>\n",
       "      <td>2018-01-13 20:44:01</td>\n",
       "    </tr>\n",
       "    <tr>\n",
       "      <th>2</th>\n",
       "      <td>常温陈化区</td>\n",
       "      <td>2018-01-13 20:45:59</td>\n",
       "      <td>2018-01-19 06:51:08</td>\n",
       "    </tr>\n",
       "    <tr>\n",
       "      <th>3</th>\n",
       "      <td>充电区</td>\n",
       "      <td>2018-01-19 07:07:25</td>\n",
       "      <td>2018-01-19 07:44:44</td>\n",
       "    </tr>\n",
       "    <tr>\n",
       "      <th>4</th>\n",
       "      <td>高温老化区</td>\n",
       "      <td>2018-01-19 07:49:27</td>\n",
       "      <td>2018-01-23 06:01:23</td>\n",
       "    </tr>\n",
       "    <tr>\n",
       "      <th>5</th>\n",
       "      <td>电池降温区</td>\n",
       "      <td>2018-01-23 06:05:25</td>\n",
       "      <td>2018-01-23 19:42:04</td>\n",
       "    </tr>\n",
       "    <tr>\n",
       "      <th>6</th>\n",
       "      <td>分容区</td>\n",
       "      <td>2018-01-23 19:48:20</td>\n",
       "      <td>2018-01-23 21:46:20</td>\n",
       "    </tr>\n",
       "    <tr>\n",
       "      <th>7</th>\n",
       "      <td>常温保存区</td>\n",
       "      <td>2018-01-23 19:48:20</td>\n",
       "      <td>2018-01-24 20:58:15</td>\n",
       "    </tr>\n",
       "    <tr>\n",
       "      <th>8</th>\n",
       "      <td>自放电区</td>\n",
       "      <td>2018-01-24 21:00:22</td>\n",
       "      <td>2018-01-30 06:54:18</td>\n",
       "    </tr>\n",
       "  </tbody>\n",
       "</table>\n",
       "</div>"
      ],
      "text/plain": [
       "  zonename           starttime          finishtime\n",
       "0    高温陈化区 2018-01-04 05:29:01 2018-01-13 13:51:22\n",
       "1      化成区 2018-01-13 13:52:59 2018-01-13 20:44:01\n",
       "2    常温陈化区 2018-01-13 20:45:59 2018-01-19 06:51:08\n",
       "3      充电区 2018-01-19 07:07:25 2018-01-19 07:44:44\n",
       "4    高温老化区 2018-01-19 07:49:27 2018-01-23 06:01:23\n",
       "5    电池降温区 2018-01-23 06:05:25 2018-01-23 19:42:04\n",
       "6      分容区 2018-01-23 19:48:20 2018-01-23 21:46:20\n",
       "7    常温保存区 2018-01-23 19:48:20 2018-01-24 20:58:15\n",
       "8     自放电区 2018-01-24 21:00:22 2018-01-30 06:54:18"
      ]
     },
     "execution_count": 3,
     "metadata": {},
     "output_type": "execute_result"
    }
   ],
   "source": [
    "df"
   ]
  },
  {
   "cell_type": "code",
   "execution_count": 4,
   "metadata": {},
   "outputs": [
    {
     "data": {
      "text/plain": [
       "0   9 days 08:22:21\n",
       "1   0 days 06:51:02\n",
       "2   5 days 10:05:09\n",
       "3   0 days 00:37:19\n",
       "4   3 days 22:11:56\n",
       "5   0 days 13:36:39\n",
       "6   0 days 01:58:00\n",
       "7   1 days 01:09:55\n",
       "8   5 days 09:53:56\n",
       "dtype: timedelta64[ns]"
      ]
     },
     "execution_count": 4,
     "metadata": {},
     "output_type": "execute_result"
    }
   ],
   "source": [
    "time_interval = df['finishtime'] - df['starttime']\n",
    "time_interval"
   ]
  },
  {
   "cell_type": "code",
   "execution_count": 5,
   "metadata": {
    "collapsed": true
   },
   "outputs": [],
   "source": [
    "pd.set_option('precision', 1)"
   ]
  },
  {
   "cell_type": "code",
   "execution_count": 6,
   "metadata": {},
   "outputs": [
    {
     "data": {
      "text/plain": [
       "0    807741.0\n",
       "1     24662.0\n",
       "2    468309.0\n",
       "3      2239.0\n",
       "4    339116.0\n",
       "5     48999.0\n",
       "6      7080.0\n",
       "7     90595.0\n",
       "8    467636.0\n",
       "dtype: float64"
      ]
     },
     "execution_count": 6,
     "metadata": {},
     "output_type": "execute_result"
    }
   ],
   "source": [
    "seconds = time_interval / np.timedelta64(1, 's')\n",
    "seconds"
   ]
  },
  {
   "cell_type": "code",
   "execution_count": 7,
   "metadata": {},
   "outputs": [
    {
     "data": {
      "text/plain": [
       "0    13462.4\n",
       "1      411.0\n",
       "2     7805.1\n",
       "3       37.3\n",
       "4     5651.9\n",
       "5      816.6\n",
       "6      118.0\n",
       "7     1509.9\n",
       "8     7793.9\n",
       "dtype: float64"
      ]
     },
     "execution_count": 7,
     "metadata": {},
     "output_type": "execute_result"
    }
   ],
   "source": [
    "minutes = time_interval / np.timedelta64(1, 'm')\n",
    "# 或者\n",
    "# minutes = seconds / 60\n",
    "minutes"
   ]
  },
  {
   "cell_type": "code",
   "execution_count": 8,
   "metadata": {},
   "outputs": [
    {
     "data": {
      "text/plain": [
       "0    224.4\n",
       "1      6.9\n",
       "2    130.1\n",
       "3      0.6\n",
       "4     94.2\n",
       "5     13.6\n",
       "6      2.0\n",
       "7     25.2\n",
       "8    129.9\n",
       "dtype: float64"
      ]
     },
     "execution_count": 8,
     "metadata": {},
     "output_type": "execute_result"
    }
   ],
   "source": [
    "# 时间间隔（以小时为单位）\n",
    "hours = seconds / 3600\n",
    "hours"
   ]
  },
  {
   "cell_type": "code",
   "execution_count": 9,
   "metadata": {},
   "outputs": [
    {
     "data": {
      "text/html": [
       "<div>\n",
       "<style>\n",
       "    .dataframe thead tr:only-child th {\n",
       "        text-align: right;\n",
       "    }\n",
       "\n",
       "    .dataframe thead th {\n",
       "        text-align: left;\n",
       "    }\n",
       "\n",
       "    .dataframe tbody tr th {\n",
       "        vertical-align: top;\n",
       "    }\n",
       "</style>\n",
       "<table border=\"1\" class=\"dataframe\">\n",
       "  <thead>\n",
       "    <tr style=\"text-align: right;\">\n",
       "      <th></th>\n",
       "      <th>zonename</th>\n",
       "      <th>starttime</th>\n",
       "      <th>finishtime</th>\n",
       "      <th>interval (m)</th>\n",
       "      <th>interval (h)</th>\n",
       "    </tr>\n",
       "  </thead>\n",
       "  <tbody>\n",
       "    <tr>\n",
       "      <th>0</th>\n",
       "      <td>高温陈化区</td>\n",
       "      <td>2018-01-04 05:29:01</td>\n",
       "      <td>2018-01-13 13:51:22</td>\n",
       "      <td>13462.4</td>\n",
       "      <td>224.4</td>\n",
       "    </tr>\n",
       "    <tr>\n",
       "      <th>1</th>\n",
       "      <td>化成区</td>\n",
       "      <td>2018-01-13 13:52:59</td>\n",
       "      <td>2018-01-13 20:44:01</td>\n",
       "      <td>411.0</td>\n",
       "      <td>6.9</td>\n",
       "    </tr>\n",
       "    <tr>\n",
       "      <th>2</th>\n",
       "      <td>常温陈化区</td>\n",
       "      <td>2018-01-13 20:45:59</td>\n",
       "      <td>2018-01-19 06:51:08</td>\n",
       "      <td>7805.1</td>\n",
       "      <td>130.1</td>\n",
       "    </tr>\n",
       "    <tr>\n",
       "      <th>3</th>\n",
       "      <td>充电区</td>\n",
       "      <td>2018-01-19 07:07:25</td>\n",
       "      <td>2018-01-19 07:44:44</td>\n",
       "      <td>37.3</td>\n",
       "      <td>0.6</td>\n",
       "    </tr>\n",
       "    <tr>\n",
       "      <th>4</th>\n",
       "      <td>高温老化区</td>\n",
       "      <td>2018-01-19 07:49:27</td>\n",
       "      <td>2018-01-23 06:01:23</td>\n",
       "      <td>5651.9</td>\n",
       "      <td>94.2</td>\n",
       "    </tr>\n",
       "    <tr>\n",
       "      <th>5</th>\n",
       "      <td>电池降温区</td>\n",
       "      <td>2018-01-23 06:05:25</td>\n",
       "      <td>2018-01-23 19:42:04</td>\n",
       "      <td>816.6</td>\n",
       "      <td>13.6</td>\n",
       "    </tr>\n",
       "    <tr>\n",
       "      <th>6</th>\n",
       "      <td>分容区</td>\n",
       "      <td>2018-01-23 19:48:20</td>\n",
       "      <td>2018-01-23 21:46:20</td>\n",
       "      <td>118.0</td>\n",
       "      <td>2.0</td>\n",
       "    </tr>\n",
       "    <tr>\n",
       "      <th>7</th>\n",
       "      <td>常温保存区</td>\n",
       "      <td>2018-01-23 19:48:20</td>\n",
       "      <td>2018-01-24 20:58:15</td>\n",
       "      <td>1509.9</td>\n",
       "      <td>25.2</td>\n",
       "    </tr>\n",
       "    <tr>\n",
       "      <th>8</th>\n",
       "      <td>自放电区</td>\n",
       "      <td>2018-01-24 21:00:22</td>\n",
       "      <td>2018-01-30 06:54:18</td>\n",
       "      <td>7793.9</td>\n",
       "      <td>129.9</td>\n",
       "    </tr>\n",
       "  </tbody>\n",
       "</table>\n",
       "</div>"
      ],
      "text/plain": [
       "  zonename           starttime          finishtime  interval (m)  interval (h)\n",
       "0    高温陈化区 2018-01-04 05:29:01 2018-01-13 13:51:22       13462.4         224.4\n",
       "1      化成区 2018-01-13 13:52:59 2018-01-13 20:44:01         411.0           6.9\n",
       "2    常温陈化区 2018-01-13 20:45:59 2018-01-19 06:51:08        7805.1         130.1\n",
       "3      充电区 2018-01-19 07:07:25 2018-01-19 07:44:44          37.3           0.6\n",
       "4    高温老化区 2018-01-19 07:49:27 2018-01-23 06:01:23        5651.9          94.2\n",
       "5    电池降温区 2018-01-23 06:05:25 2018-01-23 19:42:04         816.6          13.6\n",
       "6      分容区 2018-01-23 19:48:20 2018-01-23 21:46:20         118.0           2.0\n",
       "7    常温保存区 2018-01-23 19:48:20 2018-01-24 20:58:15        1509.9          25.2\n",
       "8     自放电区 2018-01-24 21:00:22 2018-01-30 06:54:18        7793.9         129.9"
      ]
     },
     "execution_count": 9,
     "metadata": {},
     "output_type": "execute_result"
    }
   ],
   "source": [
    "df['interval (m)'] = minutes\n",
    "df['interval (h)'] = hours\n",
    "df"
   ]
  },
  {
   "cell_type": "code",
   "execution_count": 10,
   "metadata": {
    "collapsed": true
   },
   "outputs": [],
   "source": [
    "# df = df.drop('interval', axis=1)"
   ]
  },
  {
   "cell_type": "code",
   "execution_count": 11,
   "metadata": {
    "collapsed": true
   },
   "outputs": [],
   "source": [
    "df.to_excel('./result/一个C15电池的完整流程_附时间间隔.xlsx', sheet_name='Sheet1')"
   ]
  }
 ],
 "metadata": {
  "kernelspec": {
   "display_name": "Python 3",
   "language": "python",
   "name": "python3"
  },
  "language_info": {
   "codemirror_mode": {
    "name": "ipython",
    "version": 3
   },
   "file_extension": ".py",
   "mimetype": "text/x-python",
   "name": "python",
   "nbconvert_exporter": "python",
   "pygments_lexer": "ipython3",
   "version": "3.6.2"
  }
 },
 "nbformat": 4,
 "nbformat_minor": 2
}
